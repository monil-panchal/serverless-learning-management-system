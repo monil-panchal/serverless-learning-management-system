{
 "cells": [
  {
   "cell_type": "code",
   "execution_count": 5,
   "metadata": {},
   "outputs": [
    {
     "name": "stdout",
     "output_type": "stream",
     "text": [
      "Requirement already satisfied: scikit-learn==0.23.1 in /opt/conda/lib/python3.7/site-packages (0.23.1)\n",
      "Requirement already satisfied: numpy>=1.13.3 in /opt/conda/lib/python3.7/site-packages (from scikit-learn==0.23.1) (1.18.5)\n",
      "Requirement already satisfied: threadpoolctl>=2.0.0 in /opt/conda/lib/python3.7/site-packages (from scikit-learn==0.23.1) (2.1.0)\n",
      "Requirement already satisfied: scipy>=0.19.1 in /opt/conda/lib/python3.7/site-packages (from scikit-learn==0.23.1) (1.5.1)\n",
      "Requirement already satisfied: joblib>=0.11 in /opt/conda/lib/python3.7/site-packages (from scikit-learn==0.23.1) (0.16.0)\n",
      "Note: you may need to restart the kernel to use updated packages.\n"
     ]
    }
   ],
   "source": [
    "# Python Machine Learning Library\n",
    "pip install scikit-learn==0.23.1"
   ]
  },
  {
   "cell_type": "code",
   "execution_count": 6,
   "metadata": {},
   "outputs": [],
   "source": [
    "twenty_train = fetch_20newsgroups(subset='train', shuffle=True, random_state=42)\n",
    "texts = twenty_train.data"
   ]
  },
  {
   "cell_type": "code",
   "execution_count": 30,
   "metadata": {},
   "outputs": [
    {
     "name": "stdout",
     "output_type": "stream",
     "text": [
      "[[0 0 0 ... 0 0 0]\n",
      " [0 0 0 ... 0 0 0]\n",
      " [0 0 0 ... 0 0 0]\n",
      " ...\n",
      " [0 0 0 ... 0 0 0]\n",
      " [0 0 0 ... 0 0 0]\n",
      " [0 0 0 ... 0 0 0]]\n"
     ]
    }
   ],
   "source": [
    "# Convert a collection of text documents to a matrix of token counts\n",
    "vec = CountVectorizer()\n",
    "\n",
    "# Learn the vocabulary dictionary and return document-term matrix.\n",
    "matrix = vec.fit_transform(texts)\n",
    "\n",
    "# Array mapping from feature integer indices to feature name.\n",
    "print(vec.get_feature_names())\n",
    "\n",
    "# print(matrix.toarray())"
   ]
  },
  {
   "cell_type": "code",
   "execution_count": 31,
   "metadata": {},
   "outputs": [
    {
     "name": "stdout",
     "output_type": "stream",
     "text": [
      "KMeans(n_clusters=4)\n"
     ]
    },
    {
     "data": {
      "text/plain": [
       "KMeans(n_clusters=4)"
      ]
     },
     "execution_count": 31,
     "metadata": {},
     "output_type": "execute_result"
    }
   ],
   "source": [
    "from sklearn.cluster import KMeans\n",
    "\n",
    "number_of_clusters=4 # Default is 8\n",
    "km = KMeans(n_clusters=number_of_clusters)\n",
    "\n",
    "# Compute k-means clustering.\n",
    "km.fit(matrix)"
   ]
  },
  {
   "cell_type": "code",
   "execution_count": 32,
   "metadata": {},
   "outputs": [],
   "source": [
    "file = open('model_training.pkl','wb')\n",
    "pickle.dump(km,file)"
   ]
  },
  {
   "cell_type": "code",
   "execution_count": 33,
   "metadata": {},
   "outputs": [],
   "source": [
    "file = open('vectorizer_training_model.pkl','wb')\n",
    "pickle.dump(vec,file)"
   ]
  },
  {
   "cell_type": "code",
   "execution_count": 34,
   "metadata": {},
   "outputs": [
    {
     "name": "stdout",
     "output_type": "stream",
     "text": [
      "total 13512\n",
      "drwxr-xr-x 12 jupyter jupyter    4096 Jul 30 15:19 .\n",
      "drwxr-xr-x  3 root    root       4096 Jul 26 21:05 ..\n",
      "-rw-r--r--  1 jupyter jupyter     220 May 15  2017 .bash_logout\n",
      "-rw-r--r--  1 jupyter jupyter    3526 May 15  2017 .bashrc\n",
      "drwxr-xr-x  6 jupyter jupyter    4096 Jul 26 21:15 .cache\n",
      "drwxr-xr-x  4 jupyter jupyter    4096 Jul 26 21:06 .config\n",
      "drwxr-xr-x  2 jupyter jupyter    4096 Jul 26 21:05 .docker\n",
      "drwxr-xr-x  2 jupyter jupyter    4096 Jul 26 23:40 .gsutil\n",
      "drwxr-xr-x  2 jupyter jupyter    4096 Jul 27 21:53 .ipynb_checkpoints\n",
      "drwxr-xr-x  5 jupyter jupyter    4096 Jul 26 21:06 .ipython\n",
      "drwxr-xr-x  3 jupyter jupyter    4096 Jul 26 21:06 .jupyter\n",
      "drwxr-xr-x  3 jupyter jupyter    4096 Jul 26 21:05 .local\n",
      "-rw-r--r--  1 jupyter jupyter 4209362 Jul 26 23:39 model.pkl\n",
      "-rw-r--r--  1 jupyter jupyter 4209362 Jul 30 15:19 model_training.pkl\n",
      "-rw-r--r--  1 jupyter jupyter     675 May 15  2017 .profile\n",
      "drwxr-xr-x  2 jupyter jupyter    4096 Jul 26 21:28 scikit_learn_data\n",
      "-rw-r--r--  1 jupyter jupyter    8476 Jul 27 06:12 training.ipynb\n",
      "drwxr-xr-x  6 jupyter jupyter    4096 Jul 26 21:05 tutorials\n",
      "-rw-r--r--  1 jupyter jupyter 2666746 Jul 26 23:40 vectorizer.pkl\n",
      "-rw-r--r--  1 jupyter jupyter 2666746 Jul 30 15:19 vectorizer_training_model.pkl\n"
     ]
    }
   ],
   "source": [
    "!ls -al"
   ]
  },
  {
   "cell_type": "code",
   "execution_count": 21,
   "metadata": {},
   "outputs": [
    {
     "name": "stdout",
     "output_type": "stream",
     "text": [
      "gs://train-data-kmeans/\n"
     ]
    }
   ],
   "source": [
    "!gsutil ls"
   ]
  },
  {
   "cell_type": "code",
   "execution_count": 26,
   "metadata": {},
   "outputs": [
    {
     "name": "stdout",
     "output_type": "stream",
     "text": [
      "gs://train-data-kmeans/model.pkl\n",
      "gs://train-data-kmeans/vectorizer.pkl\n"
     ]
    }
   ],
   "source": [
    "!gsutil ls -r gs://train-data-kmeans/**"
   ]
  },
  {
   "cell_type": "code",
   "execution_count": 35,
   "metadata": {},
   "outputs": [
    {
     "name": "stdout",
     "output_type": "stream",
     "text": [
      "Copying file://model_training.pkl [Content-Type=application/octet-stream]...\n",
      "/ [1 files][  4.0 MiB/  4.0 MiB]                                                \n",
      "Operation completed over 1 objects/4.0 MiB.                                      \n"
     ]
    }
   ],
   "source": [
    "!gsutil cp model_training.pkl gs://train-data-kmeans/"
   ]
  },
  {
   "cell_type": "code",
   "execution_count": 36,
   "metadata": {},
   "outputs": [
    {
     "name": "stdout",
     "output_type": "stream",
     "text": [
      "Copying file://vectorizer_training_model.pkl [Content-Type=application/octet-stream]...\n",
      "/ [1 files][  2.5 MiB/  2.5 MiB]                                                \n",
      "Operation completed over 1 objects/2.5 MiB.                                      \n"
     ]
    }
   ],
   "source": [
    "!gsutil cp vectorizer_training_model.pkl gs://train-data-kmeans/"
   ]
  },
  {
   "cell_type": "code",
   "execution_count": null,
   "metadata": {},
   "outputs": [],
   "source": []
  }
 ],
 "metadata": {
  "environment": {
   "name": "common-cpu.m53",
   "type": "gcloud",
   "uri": "gcr.io/deeplearning-platform-release/base-cpu:m53"
  },
  "kernelspec": {
   "display_name": "Python 3",
   "language": "python",
   "name": "python3"
  },
  "language_info": {
   "codemirror_mode": {
    "name": "ipython",
    "version": 3
   },
   "file_extension": ".py",
   "mimetype": "text/x-python",
   "name": "python",
   "nbconvert_exporter": "python",
   "pygments_lexer": "ipython3",
   "version": "3.7.8"
  }
 },
 "nbformat": 4,
 "nbformat_minor": 4
}
